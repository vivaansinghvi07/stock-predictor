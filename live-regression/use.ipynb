{
 "cells": [
  {
   "cell_type": "code",
   "execution_count": null,
   "metadata": {},
   "outputs": [],
   "source": [
    "import requests                         # to make an API request and get recent data\n",
    "import pandas as pd                     # for data\n",
    "import numpy as np                      # for math\n",
    "from datetime import date, timedelta    # for calculating future dates\n",
    "from prophet import Prophet             # stores the model\n",
    "from matplotlib import pyplot as plt    # for graphing forecast\n",
    "\n",
    "# class for invalid API Key exception\n",
    "class APIKeyException(Exception): \n",
    "    def __init__(self, message):\n",
    "        self.message = message  # custom error message for many types of errors (api key not found, api key invalid, rate limited, etc)"
   ]
  },
  {
   "cell_type": "code",
   "execution_count": null,
   "metadata": {},
   "outputs": [],
   "source": [
    "# ENTER YOUR API KEY HERE!!!\n",
    "APIKEY = \"\"\n",
    "FUTUREFORECASTDAYS = 20"
   ]
  },
  {
   "cell_type": "code",
   "execution_count": null,
   "metadata": {},
   "outputs": [],
   "source": [
    "# gets symbol\n",
    "symbol = input(\"Enter the stock symbol you want to forecast: \")\n",
    "\n",
    "# parameters \n",
    "url = \"https://www.alphavantage.co/query\"\n",
    "params = {\n",
    "    \"function\": \"TIME_SERIES_DAILY_ADJUSTED\",\n",
    "    \"apikey\": APIKEY,\n",
    "    \"symbol\": symbol,\n",
    "    \"datatype\": \"json\",\n",
    "    \"outputsize\": \"compact\"\n",
    "}\n",
    "\n",
    "# get data\n",
    "data = requests.get(url, params=params).json()\n",
    "\n",
    "# try to look at data otherwise api key is limited\n",
    "try:\n",
    "    data = data[\"Time Series (Daily)\"]\n",
    "except KeyError:\n",
    "    try: \n",
    "        data[\"Error Message\"]       # checks if there is an error message\n",
    "        raise APIKeyException(\"Your API key is invalid.\")\n",
    "    except KeyError:                         # otherwise it must be a rate limit\n",
    "        raise APIKeyException(\"You have been rate limited. Try again later.\")\n",
    "\n",
    "# gets values\n",
    "closePrices = [float(day[\"5. adjusted close\"]) for day in list(data.values())[::-1]]     # 100 most recent\n",
    "dates = [date for date in list(data.keys())[::-1]]\n",
    "\n",
    "# creates dataframe\n",
    "df = pd.DataFrame({\n",
    "    'ds': dates,\n",
    "    'y': closePrices\n",
    "})\n",
    "\n",
    "# predicts next 10 days\n",
    "model = Prophet()\n",
    "model.fit(df)\n",
    "\n",
    "# gets the date ten days in the future \n",
    "future = model.make_future_dataframe(periods=FUTUREFORECASTDAYS)\n",
    "forecast = model.predict(future)\n",
    "model.plot(forecast)\n",
    "plt.show()"
   ]
  }
 ],
 "metadata": {
  "kernelspec": {
   "display_name": ".venv",
   "language": "python",
   "name": "python3"
  },
  "language_info": {
   "codemirror_mode": {
    "name": "ipython",
    "version": 3
   },
   "file_extension": ".py",
   "mimetype": "text/x-python",
   "name": "python",
   "nbconvert_exporter": "python",
   "pygments_lexer": "ipython3",
   "version": "3.11.2"
  },
  "orig_nbformat": 4,
  "vscode": {
   "interpreter": {
    "hash": "d2e2e9fea85646ae70f1b87b72a310337397c55915b784b7b6f952474df1c2ef"
   }
  }
 },
 "nbformat": 4,
 "nbformat_minor": 2
}
