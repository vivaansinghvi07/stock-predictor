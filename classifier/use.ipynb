{
 "cells": [
  {
   "cell_type": "code",
   "execution_count": 40,
   "metadata": {},
   "outputs": [],
   "source": [
    "# class for invalid API Key exception\n",
    "class APIKeyException(Exception): \n",
    "    def __init__(self, message):\n",
    "        self.message = message  # custom error message for many types of errors (api key not found, api key invalid, rate limited, etc)"
   ]
  },
  {
   "cell_type": "code",
   "execution_count": 41,
   "metadata": {},
   "outputs": [],
   "source": [
    "import pickle           # to load models\n",
    "import requests         # to make an API request and get recent data\n",
    "import pandas as pd     # for data\n",
    "import numpy as np      # for math\n",
    "\n",
    "DATACOUNT = 20          # SHOULD BE THE SAME AS IN getdata.py\n",
    "CLASSIFYSPLIT = 0.20    # SHOULD BE THE SAME AS IN train.py\n",
    "PATH = \"models/\"        # directory of the models\n",
    "\n",
    "# gets API key if present\n",
    "APIKEY = \"\"     # ENTER YOUR API KEY HERE\n",
    "if not APIKEY:\n",
    "    raise APIKeyException(\"Please enter an API key!\")\n",
    "\n",
    "# loads model and scaler\n",
    "with open(f\"{PATH}model.pkl\", \"rb\") as f:\n",
    "    model = pickle.load(f)\n",
    "with open(f\"{PATH}scaler.pkl\", \"rb\") as f:\n",
    "    scaler = pickle.load(f)"
   ]
  },
  {
   "cell_type": "code",
   "execution_count": null,
   "metadata": {},
   "outputs": [],
   "source": [
    "# returns percent change \n",
    "def calcPercentChange(open, close):\n",
    "    return (float(close)) / float(open)\n",
    "\n",
    "# gets stock\n",
    "symbol = input(\"Enter your stock symbol which you are analyzing: \")\n",
    "\n",
    "# gets the information for the stock\n",
    "url = \"https://www.alphavantage.co/query\"\n",
    "params = {\n",
    "    \"function\": \"TIME_SERIES_DAILY_ADJUSTED\",\n",
    "    \"apikey\": APIKEY,\n",
    "    \"symbol\": symbol,\n",
    "    \"datatype\": \"json\"\n",
    "}\n",
    "data = requests.get(url, params=params).json()\n",
    "\n",
    "# try to look at data otherwise api key is limited\n",
    "try:\n",
    "    data = data[\"Time Series (Daily)\"]\n",
    "except KeyError:\n",
    "    try: \n",
    "        data[\"Error Message\"]       # checks if there is an error message\n",
    "        raise APIKeyException(\"Your API key is invalid.\")\n",
    "    except KeyError:                         # otherwise it must be a rate limit\n",
    "        raise APIKeyException(\"You have been rate limited. Try again later.\")\n",
    "\n",
    "# gets most recent data and reverses it\n",
    "data = list(data.values())[:int(DATACOUNT * (1-CLASSIFYSPLIT)):][::-1]  # TURNS THE DATA INTO THE MOST RECENT TRADING DAYS\n",
    "\n",
    "# gets array of percent changes in the stock\n",
    "gains = [calcPercentChange(open=day[\"1. open\"], close=day[\"4. close\"]) for day in data]\n",
    "volumes = [int(day[\"6. volume\"]) for day in data]\n",
    "\n",
    "frame = pd.DataFrame({      # PARAMETERS HERE SHOULD MATCH THOSE IN train.py\n",
    "    \"gainVariation\": [np.std(gains)],\n",
    "    \"volume\": [np.average(volumes)],\n",
    "    \"avgDailyIncrease\": [np.average(gains)],\n",
    "    \"overallIncrease\": [calcPercentChange(open=data[0][\"1. open\"], close=data[-1][\"4. close\"])]\n",
    "})\n",
    "\n",
    "# scales dataframe\n",
    "frame = scaler.transform(frame)\n",
    "\n",
    "# predicts outcome\n",
    "outcome = list(model.predict(frame))[0]\n",
    "probability = list(model.predict_proba(frame))[0][0]\n",
    "\n",
    "# prints output\n",
    "print(f\"You should {['sell', 'buy'][outcome]} {symbol} with a certainty of {round(probability, 3)}.\")"
   ]
  }
 ],
 "metadata": {
  "kernelspec": {
   "display_name": ".venv",
   "language": "python",
   "name": "python3"
  },
  "language_info": {
   "codemirror_mode": {
    "name": "ipython",
    "version": 3
   },
   "file_extension": ".py",
   "mimetype": "text/x-python",
   "name": "python",
   "nbconvert_exporter": "python",
   "pygments_lexer": "ipython3",
   "version": "3.11.2"
  },
  "orig_nbformat": 4,
  "vscode": {
   "interpreter": {
    "hash": "d2e2e9fea85646ae70f1b87b72a310337397c55915b784b7b6f952474df1c2ef"
   }
  }
 },
 "nbformat": 4,
 "nbformat_minor": 2
}
